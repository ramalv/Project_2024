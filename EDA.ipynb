{
 "cells": [
  {
   "cell_type": "code",
   "execution_count": null,
   "metadata": {},
   "outputs": [],
   "source": [
    "import pandas as pd\n",
    "import plotly.express as px\n",
    "\n",
    "# Cargar datos\n",
    "car_data = pd.read_csv('../vehicles_us.csv')  # Ajusta la ruta si es necesario\n",
    "\n",
    "# Histograma\n",
    "fig = px.histogram(car_data, x=\"odometer\", title=\"Distribución del Odómetro\")\n",
    "fig.show()\n"
   ]
  }
 ],
 "metadata": {
  "kernelspec": {
   "display_name": "env",
   "language": "python",
   "name": "python3"
  },
  "language_info": {
   "name": "python",
   "version": "3.12.1"
  }
 },
 "nbformat": 4,
 "nbformat_minor": 2
}
