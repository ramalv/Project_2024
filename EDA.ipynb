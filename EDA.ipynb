{
 "cells": [
  {
   "cell_type": "code",
   "execution_count": null,
   "metadata": {},
   "outputs": [],
   "source": [
    "import pandas as pd\n",
    "import plotly.express as px\n",
    "\n",
    "car_data = pd.read_csv('vehicles_us.csv') # leer los datos\n",
    "fig = px.histogram(car_data, x=\"odometer\") # crear un histograma\n",
    "fig.show() # crear gráfico de dispersión"
   ]
  },
  {
   "cell_type": "code",
   "execution_count": null,
   "metadata": {},
   "outputs": [],
   "source": [
    "import pandas as pd\n",
    "import plotly.express as px\n",
    "\n",
    "car_data = pd.read_csv('vehicles_us.csv') # leer los datos\n",
    "fig = px.scatter(car_data, x=\"odometer\", y=\"price\") # crear un gráfico de dispersión\n",
    "fig.show() # crear gráfico de dispersión"
   ]
  }
 ],
 "metadata": {
  "kernelspec": {
   "display_name": "env",
   "language": "python",
   "name": "python3"
  },
  "language_info": {
   "codemirror_mode": {
    "name": "ipython",
    "version": 3
   },
   "file_extension": ".py",
   "mimetype": "text/x-python",
   "name": "python",
   "nbconvert_exporter": "python",
   "pygments_lexer": "ipython3",
   "version": "3.12.1"
  }
 },
 "nbformat": 4,
 "nbformat_minor": 2
}
